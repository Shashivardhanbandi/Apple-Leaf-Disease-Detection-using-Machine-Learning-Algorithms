{
 "cells": [
  {
   "cell_type": "code",
   "execution_count": 1,
   "id": "ca3fc6d2-628e-4e82-837d-21a9f60681c1",
   "metadata": {},
   "outputs": [],
   "source": [
    "import os\n",
    "import numpy as np\n",
    "import cv2\n",
    "from sklearn.preprocessing import LabelEncoder\n",
    "from sklearn.model_selection import train_test_split\n",
    "from sklearn.ensemble import RandomForestClassifier\n",
    "from skimage.feature import hog\n",
    "import mahotas\n",
    "from sklearn.preprocessing import StandardScaler\n",
    "from sklearn.metrics import accuracy_score, confusion_matrix, classification_report\n",
    "import matplotlib.pyplot as plt\n",
    "import seaborn as sns"
   ]
  },
  {
   "cell_type": "code",
   "execution_count": null,
   "id": "4b073b46-56e8-4609-972b-7d8be7a46786",
   "metadata": {},
   "outputs": [],
   "source": [
    " dataset_path = r'C:\\Users\\shash\\Downloads\\apple'\n",
    " img_size = (64, 64)"
   ]
  },
  {
   "cell_type": "code",
   "execution_count": null,
   "id": "b5b56345-b5c0-432e-b5bc-cd862d2dcc4a",
   "metadata": {},
   "outputs": [],
   "source": [
    "X = []\n",
    "y = []\n",
    "labels = os.listdir(dataset_path)"
   ]
  },
  {
   "cell_type": "code",
   "execution_count": null,
   "id": "2ce11f8e-ce24-4491-97aa-cb1aed6185bb",
   "metadata": {},
   "outputs": [],
   "source": [
    "for label in labels:\n",
    "    folder_path = os.path.join(dataset_path, label)\n",
    "    if not os.path.isdir(folder_path):\n",
    "        continue\n",
    "\n",
    "    for filename in os.listdir(folder_path):\n",
    "        img_path = os.path.join(folder_path, filename)\n",
    "        img = cv2.imread(img_path)\n",
    "        if img is None:\n",
    "            continue\n",
    "\n",
    "        img = cv2.resize(img, img_size)\n",
    "        gray = cv2.cvtColor(img, cv2.COLOR_BGR2GRAY)\n",
    "\n",
    "        features, _ = hog(gray, orientations=9, pixels_per_cell=(8, 8),\n",
    "                          cells_per_block=(2, 2), block_norm='L2-Hys',\n",
    "                          visualize=True)\n",
    "\n",
    "        moments = cv2.moments(gray)\n",
    "        hu_moments = cv2.HuMoments(moments).flatten()\n",
    "\n",
    "        haralick_features = mahotas.features.haralick(gray).mean(axis=0)\n",
    "\n",
    "        hist_r = cv2.calcHist([img], [0], None, [256], [0, 256])\n",
    "        hist_g = cv2.calcHist([img], [1], None, [256], [0, 256])\n",
    "        hist_b = cv2.calcHist([img], [2], None, [256], [0, 256])\n",
    "        color_hist = np.concatenate([hist_r.flatten(), hist_g.flatten(), hist_b.flatten()])\n",
    "\n",
    "        combined_features = np.concatenate([features, hu_moments, haralick_features, color_hist])\n",
    "\n",
    "        X.append(combined_features)\n",
    "        y.append(label)\n",
    "\n",
    "print(f\"Total samples: {len(X)}\") \n"
   ]
  },
  {
   "cell_type": "code",
   "execution_count": null,
   "id": "a9eac1cd-4d3b-4b5c-baf8-6e04304150b8",
   "metadata": {},
   "outputs": [],
   "source": [
    "X = np.array(X)\n",
    "y = np.array(y)"
   ]
  },
  {
   "cell_type": "code",
   "execution_count": null,
   "id": "d58238cd-33cf-4ec3-a3ba-d062e54cc4cc",
   "metadata": {},
   "outputs": [],
   "source": [
    "le = LabelEncoder()\n",
    "y_encoded = le.fit_transform(y)"
   ]
  },
  {
   "cell_type": "code",
   "execution_count": null,
   "id": "0d4f6c3a-97a3-4f3f-96f6-7929fca899d1",
   "metadata": {},
   "outputs": [],
   "source": [
    "scaler = StandardScaler()\n",
    "X_scaled = scaler.fit_transform(X)"
   ]
  },
  {
   "cell_type": "code",
   "execution_count": null,
   "id": "52ca7639-73de-4db6-9fed-64f839088d1e",
   "metadata": {},
   "outputs": [],
   "source": [
    "X_train, X_test, y_train, y_test = train_test_split(X_scaled, y, test_size=0.2, random_state=42)"
   ]
  },
  {
   "cell_type": "code",
   "execution_count": null,
   "id": "8feb5e06-29ea-4c52-910f-fe2e8fc4fe3b",
   "metadata": {},
   "outputs": [],
   "source": [
    "rf = RandomForestClassifier(n_estimators=100, random_state=42)  \n",
    "rf.fit(X_train, y_train)"
   ]
  },
  {
   "cell_type": "code",
   "execution_count": null,
   "id": "20baa39f-928f-42f8-adc5-afef556c921a",
   "metadata": {},
   "outputs": [],
   "source": [
    "y_pred = rf.predict(X_test)"
   ]
  },
  {
   "cell_type": "code",
   "execution_count": null,
   "id": "c90f22d6-d408-49e4-9abe-69abb2898b72",
   "metadata": {},
   "outputs": [],
   "source": [
    "accuracy = accuracy_score(y_test, y_pred)\n",
    "print(f'Combined Features + RF Accuracy: {accuracy * 100:.2f}%')\n",
    "print(\"\\nClassification Report:\")\n",
    "print(classification_report(y_test, y_pred))"
   ]
  },
  {
   "cell_type": "code",
   "execution_count": null,
   "id": "bedf8cb3-6cb0-4b0c-9bdc-6b5a9afbba99",
   "metadata": {},
   "outputs": [],
   "source": [
    "cm = confusion_matrix(y_test, y_pred)\n",
    "plt.figure(figsize=(20, 18))\n",
    "sns.heatmap(cm, annot=True, fmt='d', cmap='Blues',\n",
    "            xticklabels=le.classes_, yticklabels=le.classes_,\n",
    "            linewidths=0.5, linecolor='gray', annot_kws={\"size\": 20})\n",
    "\n",
    "plt.xlabel('Predicted')\n",
    "plt.ylabel('Actual')\n",
    "plt.title('Confusion Matrix')\n",
    "plt.xticks(rotation=90)\n",
    "plt.yticks(rotation=0)\n",
    "plt.tight_layout()\n",
    "plt.savefig('confusion_matrix_rf.png', dpi=300, bbox_inches='tight')\n",
    "\n",
    "plt.show()\n"
   ]
  },
  {
   "cell_type": "code",
   "execution_count": null,
   "id": "e314c5f0-63c5-48fc-9acc-517d522149ce",
   "metadata": {},
   "outputs": [],
   "source": [
    "\n",
    "test_img_path = r'C:\\Users\\shash\\OneDrive\\Desktop\\Plant Disease Detection\\testingimages\\AppleCedarRust2.JPG'\n",
    "\n",
    "if not os.path.exists(test_img_path):\n",
    "    print(\"File does not exist. Exiting.\")\n",
    "    exit()\n",
    "\n",
    "img = cv2.imread(test_img_path)\n",
    "if img is None:\n",
    "    print(\"Failed to read image. Exiting.\")\n",
    "    exit()\n",
    "\n",
    "img_size = (64, 64)\n",
    "img_resized = cv2.resize(img, img_size)\n",
    "gray = cv2.cvtColor(img_resized, cv2.COLOR_BGR2GRAY)\n",
    "\n",
    "features, _ = hog(gray, orientations=9, pixels_per_cell=(8, 8),\n",
    "                  cells_per_block=(2, 2), block_norm='L2-Hys',\n",
    "                  visualize=True)\n",
    "\n",
    "moments = cv2.moments(gray)\n",
    "hu_moments = cv2.HuMoments(moments).flatten()\n",
    "\n",
    "haralick_features = mahotas.features.haralick(gray).mean(axis=0)\n",
    "\n",
    "hist_r = cv2.calcHist([img_resized], [0], None, [256], [0, 256])\n",
    "hist_g = cv2.calcHist([img_resized], [1], None, [256], [0, 256])\n",
    "hist_b = cv2.calcHist([img_resized], [2], None, [256], [0, 256])\n",
    "color_hist = np.concatenate([hist_r.flatten(), hist_g.flatten(), hist_b.flatten()])\n",
    "\n",
    "combined_features = np.concatenate([features, hu_moments, haralick_features, color_hist])\n",
    "\n",
    "combined_features_scaled = scaler.transform([combined_features])\n",
    "\n",
    "prediction = rf.predict(combined_features_scaled)\n",
    "predicted_label = prediction[0]\n",
    "\n",
    "plt.imshow(cv2.cvtColor(img_resized, cv2.COLOR_BGR2RGB))\n",
    "plt.title(f\"Predicted: {predicted_label}\", fontsize=16)\n",
    "plt.axis('off')\n",
    "plt.show()\n"
   ]
  },
  {
   "cell_type": "code",
   "execution_count": null,
   "id": "6aeacf43-9d32-4615-862e-40a3d97be367",
   "metadata": {},
   "outputs": [],
   "source": []
  },
  {
   "cell_type": "code",
   "execution_count": null,
   "id": "9d669557-fee1-42da-8bef-633083b525a7",
   "metadata": {},
   "outputs": [],
   "source": []
  }
 ],
 "metadata": {
  "kernelspec": {
   "display_name": "Python 3 (ipykernel)",
   "language": "python",
   "name": "python3"
  },
  "language_info": {
   "codemirror_mode": {
    "name": "ipython",
    "version": 3
   },
   "file_extension": ".py",
   "mimetype": "text/x-python",
   "name": "python",
   "nbconvert_exporter": "python",
   "pygments_lexer": "ipython3",
   "version": "3.12.10"
  }
 },
 "nbformat": 4,
 "nbformat_minor": 5
}
